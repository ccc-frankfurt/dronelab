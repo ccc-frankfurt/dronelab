{
 "cells": [
  {
   "cell_type": "code",
   "execution_count": 32,
   "id": "58cc64ef",
   "metadata": {},
   "outputs": [],
   "source": [
    "import math\n",
    "from pathlib import Path\n",
    "import subprocess\n",
    "import shutil\n",
    "\n",
    "\n",
    "in_data = \"/projects/sysl2/rail_novelity_training/gen_data/handpicked_rails\"\n",
    "out = \"/projects/sysl2/rail_novelity_training/gen_data/data\""
   ]
  },
  {
   "cell_type": "code",
   "execution_count": 13,
   "id": "3bd84f28",
   "metadata": {},
   "outputs": [],
   "source": [
    "for path in Path(in_data).resolve().rglob('*.json'):\n",
    "    stem = path.stem\n",
    "    mask_path = path.with_name(stem+\"_mask\")\n",
    "    subprocess.run([\"labelme_json_to_dataset\", str(path), \"-o\", str(mask_path)])"
   ]
  },
  {
   "cell_type": "code",
   "execution_count": 6,
   "id": "48d91dc1",
   "metadata": {},
   "outputs": [],
   "source": [
    "Path(out).mkdir(parents=True, exist_ok=True)\n",
    "for path in Path(in_data).iterdir():\n",
    "    if path.is_dir():\n",
    "        (Path(out)/path.stem).mkdir(parents=True, exist_ok=True)"
   ]
  },
  {
   "cell_type": "code",
   "execution_count": 41,
   "id": "74ce740b",
   "metadata": {},
   "outputs": [
    {
     "name": "stdout",
     "output_type": "stream",
     "text": [
      "\\projects\\sysl2\\rail_novelity_training\\gen_data\\data\n"
     ]
    }
   ],
   "source": [
    "out_path = Path(out)\n",
    "print(out_path)\n",
    "for path in Path(in_data).rglob('label.png'):\n",
    "    current_out_mask = out_path/(path.parent.parent.stem)/(path.parent.stem+\".png\")\n",
    "    shutil.copyfile(path, current_out_mask)\n",
    "    current_in_data = (path.parent.parent)/(path.parent.stem.removesuffix(\"_mask\")+\".jpg\")\n",
    "    current_out_data = out_path/(path.parent.parent.stem)/(path.parent.stem.removesuffix(\"_mask\")+\".jpg\")\n",
    "    shutil.copyfile(current_in_data, current_out_data)"
   ]
  }
 ],
 "metadata": {
  "kernelspec": {
   "display_name": "Python 3.9 sysl2",
   "language": "python",
   "name": "sysl2"
  },
  "language_info": {
   "codemirror_mode": {
    "name": "ipython",
    "version": 3
   },
   "file_extension": ".py",
   "mimetype": "text/x-python",
   "name": "python",
   "nbconvert_exporter": "python",
   "pygments_lexer": "ipython3",
   "version": "3.9.4"
  },
  "toc": {
   "base_numbering": 1,
   "nav_menu": {},
   "number_sections": true,
   "sideBar": true,
   "skip_h1_title": false,
   "title_cell": "Table of Contents",
   "title_sidebar": "Contents",
   "toc_cell": false,
   "toc_position": {},
   "toc_section_display": true,
   "toc_window_display": false
  }
 },
 "nbformat": 4,
 "nbformat_minor": 5
}
