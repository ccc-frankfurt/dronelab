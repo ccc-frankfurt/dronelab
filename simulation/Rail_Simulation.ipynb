{
 "cells": [
  {
   "cell_type": "code",
   "execution_count": 1,
   "metadata": {},
   "outputs": [],
   "source": [
    "using Plots\n",
    "using Gen"
   ]
  },
  {
   "cell_type": "code",
   "execution_count": 34,
   "metadata": {},
   "outputs": [],
   "source": [
    "@gen function straight_rails(xstart::Float64, xend::Float64)\n",
    "    xstart = @trace(normal(xstart, 1), :xstart)\n",
    "    xend = @trace(normal(xend,1), :xend)\n",
    "\n",
    "    slope = @trace(normal(0, 1), :slope)\n",
    "    intercept = @trace(normal(0, 1), :intercept)\n",
    "    \n",
    "    xcamera = @trace(normal(50., 10), :xcamera)\n",
    "    ycamera = @trace(normal(50., 10), :ycamera)\n",
    "    \n",
    "    return 1\n",
    "end;\n",
    "\n",
    "function render_trace(trace)\n",
    "    \n",
    "    # Pull out xs from the trace\n",
    "    #xs = get_args(trace)[1]\n",
    "    \n",
    "    #xmin = minimum(xs)\n",
    "    #xmax = maximum(xs)\n",
    "    #y_r1 = [trace[(:r1, i)] for i=1:length(xs)]\n",
    "    #y_r2 = [trace[(:r2, i)] for i=1:length(xs)]\n",
    "    xs = [trace[:xstart],trace[:xend] ]\n",
    "    \n",
    "    # Pull out slope and intercept from the trace\n",
    "    slope = trace[:slope]\n",
    "    intercept = trace[:intercept]\n",
    "    z =range(0.,stop=0.0,length=length(xs))\n",
    "    # Draw the line\n",
    "    p = plot([xs, xs], [((xs.*slope) .+intercept), ((xs .* slope) .+ intercept .+ 2)] , [z, z],\n",
    "        camera=(trace[:xcamera], trace[:ycamera]), legend=false, grid=false, axis=false)\n",
    "        #xlim = (0, x_lim),\n",
    "        #ylim = (0, y_lim),\n",
    "        #zlim = (0, z_lim))\n",
    "    return p\n",
    "end;\n",
    "\n",
    "function save_image(p, c)\n",
    "    #name = rand(Int, 1)\n",
    "    name = \"simulated_data/\" * string(c) * \".png\"\n",
    "    savefig(p, name)\n",
    "    end;"
   ]
  },
  {
   "cell_type": "code",
   "execution_count": 31,
   "metadata": {},
   "outputs": [
    {
     "ename": "LoadError",
     "evalue": "MethodError: no method matching png(::Plots.Plot{Plots.GRBackend})\n\u001b[0mClosest candidates are:\n\u001b[0m  png(::Plots.Plot, \u001b[91m::AbstractString\u001b[39m) at C:\\Users\\fredi\\.julia\\packages\\Plots\\V8QVi\\src\\output.jl:4\n\u001b[0m  png(\u001b[91m::AbstractString\u001b[39m) at C:\\Users\\fredi\\.julia\\packages\\Plots\\V8QVi\\src\\output.jl:10",
     "output_type": "error",
     "traceback": [
      "MethodError: no method matching png(::Plots.Plot{Plots.GRBackend})\n\u001b[0mClosest candidates are:\n\u001b[0m  png(::Plots.Plot, \u001b[91m::AbstractString\u001b[39m) at C:\\Users\\fredi\\.julia\\packages\\Plots\\V8QVi\\src\\output.jl:4\n\u001b[0m  png(\u001b[91m::AbstractString\u001b[39m) at C:\\Users\\fredi\\.julia\\packages\\Plots\\V8QVi\\src\\output.jl:10",
      "",
      "Stacktrace:",
      " [1] top-level scope",
      "   @ In[31]:3",
      " [2] eval",
      "   @ .\\boot.jl:360 [inlined]",
      " [3] include_string(mapexpr::typeof(REPL.softscope), mod::Module, code::String, filename::String)",
      "   @ Base .\\loading.jl:1094"
     ]
    }
   ],
   "source": [
    "trace1 = Gen.simulate(straight_rails, (0.0,100.,));\n",
    "p = render_trace(trace1);\n",
    "save_image(p, 1)"
   ]
  },
  {
   "cell_type": "code",
   "execution_count": 35,
   "metadata": {},
   "outputs": [],
   "source": [
    "traces = [Gen.simulate(straight_rails, (0., 300.,)) for _=1:50];\n",
    "for i in 1:50\n",
    "    p = render_trace(traces[i]);\n",
    "    save_image(p, i)\n",
    "    end;\n",
    "\n",
    "\n"
   ]
  },
  {
   "cell_type": "code",
   "execution_count": 33,
   "metadata": {},
   "outputs": [
    {
     "name": "stderr",
     "output_type": "stream",
     "text": [
      "┌ Info: Precompiling Images [916415d5-f1e6-5110-898d-aaa5f9f070e0]\n",
      "└ @ Base loading.jl:1317\n"
     ]
    }
   ],
   "source": [
    "using Noise, TestImages, Images"
   ]
  },
  {
   "cell_type": "code",
   "execution_count": null,
   "metadata": {},
   "outputs": [],
   "source": []
  }
 ],
 "metadata": {
  "kernelspec": {
   "display_name": "Julia 1.6.0",
   "language": "julia",
   "name": "julia-1.6"
  },
  "language_info": {
   "file_extension": ".jl",
   "mimetype": "application/julia",
   "name": "julia",
   "version": "1.6.0"
  }
 },
 "nbformat": 4,
 "nbformat_minor": 2
}
