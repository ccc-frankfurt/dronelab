{
 "cells": [
  {
   "cell_type": "code",
   "execution_count": 11,
   "metadata": {},
   "outputs": [
    {
     "data": {
      "text/html": [
       "<script>\n",
       "// Immediately-invoked-function-expression to avoid global variables.\n",
       "(function() {\n",
       "    var warning_div = document.getElementById(\"webio-warning-18098166710745600456\");\n",
       "    var hide = function () {\n",
       "        var script = document.getElementById(\"webio-setup-771912458225542595\");\n",
       "        var parent = script && script.parentElement;\n",
       "        var grandparent = parent && parent.parentElement;\n",
       "        if (grandparent) {\n",
       "            grandparent.style.display = \"none\";\n",
       "        }\n",
       "        warning_div.style.display = \"none\";\n",
       "    };\n",
       "    if (typeof Jupyter !== \"undefined\") {\n",
       "        console.log(\"WebIO detected Jupyter notebook environment.\");\n",
       "        // Jupyter notebook.\n",
       "        var extensions = (\n",
       "            Jupyter\n",
       "            && Jupyter.notebook.config.data\n",
       "            && Jupyter.notebook.config.data.load_extensions\n",
       "        );\n",
       "        if (extensions && extensions[\"webio-jupyter-notebook\"]) {\n",
       "            // Extension already loaded.\n",
       "            console.log(\"Jupyter WebIO nbextension detected; not loading ad-hoc.\");\n",
       "            hide();\n",
       "            return;\n",
       "        }\n",
       "    } else if (window.location.pathname.includes(\"/lab\")) {\n",
       "        // Guessing JupyterLa\n",
       "        console.log(\"Jupyter Lab detected; make sure the @webio/jupyter-lab-provider labextension is installed.\");\n",
       "        hide();\n",
       "        return;\n",
       "    }\n",
       "})();\n",
       "\n",
       "</script>\n",
       "<p\n",
       "    id=\"webio-warning-18098166710745600456\"\n",
       "    class=\"output_text output_stderr\"\n",
       "    style=\"padding: 1em; font-weight: bold;\"\n",
       ">\n",
       "    Unable to load WebIO. Please make sure WebIO works for your Jupyter client.\n",
       "    For troubleshooting, please see <a href=\"https://juliagizmos.github.io/WebIO.jl/latest/providers/ijulia/\">\n",
       "    the WebIO/IJulia documentation</a>.\n",
       "    <!-- TODO: link to installation docs. -->\n",
       "</p>\n"
      ],
      "text/plain": [
       "HTML{String}(\"<script>\\n// Immediately-invoked-function-expression to avoid global variables.\\n(function() {\\n    var warning_div = document.getElementById(\\\"webio-warning-18098166710745600456\\\");\\n    var hide = function () {\\n        var script = document.getElementById(\\\"webio-setup-771912458225542595\\\");\\n        var parent = script && script.parentElement;\\n        var grandparent = parent && parent.parentElement;\\n        if (grandparent) {\\n            grandparent.style.display = \\\"none\\\";\\n        }\\n        warning_div.style.display = \\\"none\\\";\\n    };\\n    if (typeof Jupyter !== \\\"undefined\\\") {\\n        console.log(\\\"WebIO detected Jupyter notebook environment.\\\");\\n        // Jupyter notebook.\\n        var extensions = (\\n            Jupyter\\n            && Jupyter.notebook.config.data\\n            && Jupyter.notebook.config.data.load_extensions\\n        );\\n        if (extensions && extensions[\\\"webio-jupyter-notebook\\\"]) {\\n            // Extension already loaded.\\n            console.log(\\\"Jupyter WebIO nbextension detected; not loading ad-hoc.\\\");\\n            hide();\\n            return;\\n        }\\n    } else if (window.location.pathname.includes(\\\"/lab\\\")) {\\n        // Guessing JupyterLa\\n        console.log(\\\"Jupyter Lab detected; make sure the @webio/jupyter-lab-provider labextension is installed.\\\");\\n        hide();\\n        return;\\n    }\\n})();\\n\\n</script>\\n<p\\n    id=\\\"webio-warning-18098166710745600456\\\"\\n    class=\\\"output_text output_stderr\\\"\\n    style=\\\"padding: 1em; font-weight: bold;\\\"\\n>\\n    Unable to load WebIO. Please make sure WebIO works for your Jupyter client.\\n    For troubleshooting, please see <a href=\\\"https://juliagizmos.github.io/WebIO.jl/latest/providers/ijulia/\\\">\\n    the WebIO/IJulia documentation</a>.\\n    <!-- TODO: link to installation docs. -->\\n</p>\\n\")"
      ]
     },
     "metadata": {},
     "output_type": "display_data"
    },
    {
     "name": "stderr",
     "output_type": "stream",
     "text": [
      "WARNING: using PlotlyJS.plot in module Main conflicts with an existing identifier.\n"
     ]
    }
   ],
   "source": [
    "using Plots\n",
    "using PlotlyJS\n",
    "using Gen"
   ]
  },
  {
   "cell_type": "code",
   "execution_count": 2,
   "metadata": {},
   "outputs": [
    {
     "data": {
      "text/plain": [
       "0.5"
      ]
     },
     "execution_count": 2,
     "metadata": {},
     "output_type": "execute_result"
    }
   ],
   "source": [
    "# fixed camera y perspective\n",
    "ycamera = 70\n",
    "# ToDo discuss the selected parameter of the simulation\n",
    "slope_value = 0\n",
    "intercept_value = 0\n",
    "xcamera_value = 50.\n",
    "prob_different_rail_types = 0.5"
   ]
  },
  {
   "cell_type": "code",
   "execution_count": 31,
   "metadata": {},
   "outputs": [
    {
     "ename": "LoadError",
     "evalue": "syntax: \"=>\" is not a unary operator",
     "output_type": "error",
     "traceback": [
      "syntax: \"=>\" is not a unary operator",
      "",
      "Stacktrace:",
      " [1] top-level scope",
      "   @ In[31]:26",
      " [2] eval",
      "   @ .\\boot.jl:360 [inlined]",
      " [3] include_string(mapexpr::typeof(REPL.softscope), mod::Module, code::String, filename::String)",
      "   @ Base .\\loading.jl:1094"
     ]
    }
   ],
   "source": [
    "@gen function straight_rails(xstart::Float64, xend::Float64)\n",
    "    xstart = @trace(normal(xstart, 1), :xstart)\n",
    "    xend = @trace(normal(xend,1), :xend)\n",
    "\n",
    "    slope = @trace(normal(slope_value, 1), :slope)\n",
    "    intercept = @trace(normal(intercept_value, 1), :intercept)\n",
    "    \n",
    "    xcamera = @trace(normal(xcamera_value, 1), :xcamera)\n",
    "    #ycamera = @trace(normal(50., 10), :ycamera)\n",
    "    \n",
    "    return 1\n",
    "end;\n",
    "\n",
    "function render_trace(trace)\n",
    "    \n",
    "    xs = [trace[:xstart],trace[:xend] ]\n",
    "    \n",
    "    slope = trace[:slope]\n",
    "    intercept = trace[:intercept]\n",
    "    z =range(0.,stop=0.0,length=length(xs))\n",
    "    # Draw the line\n",
    "    plotly()\n",
    "    p = plot([xs, xs], [((xs.*slope) .+intercept), ((xs .* slope) .+ intercept .+ 2)] , [z, z], legend=false, grid=false, axis=false,\n",
    "        KW(\n",
    "            :include_mathjax => \"\",\n",
    "            :layout.scene.camera => [:up => [x: => 0, y: => 0, z: => 10]])\n",
    "        #xlim = (0, x_lim), discussable if we take a coordinate system\n",
    "        #ylim = (0, y_lim),\n",
    "        #zlim = (0, z_lim))\n",
    "    return p\n",
    "end;\n",
    "\n",
    "\n",
    "@gen function rail_curve(xstart::Float64, xend::Float64, radius::Float64)\n",
    "    xs = @trace(normal(xstart, 1), :xstart)\n",
    "    xe = @trace(normal(xend, 1), :xend)\n",
    "    slope = @trace(normal(slope_value, 1), :slope)\n",
    "    yradius = @trace(normal(radius, 1), :yradius)\n",
    "    xcamera = @trace(normal(xcamera_value, 1), :xcamera)\n",
    "\n",
    "  \n",
    "    return 1\n",
    "end;\n",
    "\n",
    "\n",
    "function render_trace_curves(trace)\n",
    "    \n",
    "    # Pull out xs from the trace\n",
    "    #xs = get_args(trace)[1]\n",
    "    \n",
    "    #xmin = minimum(xs)\n",
    "    #xmax = maximum(xs)\n",
    "    #y_r1 = [trace[(:r1, i)] for i=1:length(xs)]\n",
    "    #y_r2 = [trace[(:r2, i)] for i=1:length(xs)]\n",
    "    x = range(trace[:xstart], trace[:xend], length=10)\n",
    "    # Pull out slope and intercept from the trace\n",
    "    z =range(0.,stop=0.0,length=length(x))\n",
    "    # Draw the line\n",
    "    f = (sqrt.(trace[:yradius]^2 .- (x .^ 2))) .* trace[:slope]\n",
    "    p = plot([x, x], [f, f .+ 2] , [z, z],\n",
    "        camera=(trace[:xcamera], ycamera ), legend=false, grid=false, axis=false)\n",
    "        #xlim = (0, x_lim),\n",
    "        #ylim = (0, y_lim),\n",
    "        #zlim = (0, z_lim))\n",
    "    return p\n",
    "end;\n",
    "\n",
    "@gen function combined_model(xstart::Float64, xend::Float64, radius::Float64)\n",
    "    if @trace(bernoulli(prob_different_rail_types), :is_line)\n",
    "        @trace(straight_rails(xstart, xend))\n",
    "    else\n",
    "        @trace(rail_curve(xstart, xend, radius))\n",
    "    end\n",
    "end;\n",
    "\n",
    "function render_combined(trace)\n",
    "    if trace[:is_line]\n",
    "        render_trace(trace)\n",
    "    else\n",
    "        render_trace_curves(trace)\n",
    "    end\n",
    "end;\n",
    "\n",
    "function save_image(p, c)\n",
    "    #name = rand(Int, 1)\n",
    "    name = \"simulated_data/\" * string(c) * \".png\"\n",
    "    savefig(p, name)\n",
    "    end;\n"
   ]
  },
  {
   "cell_type": "code",
   "execution_count": 28,
   "metadata": {},
   "outputs": [
    {
     "ename": "LoadError",
     "evalue": "Couldn't process recipe args: (Vector{Vector{Float64}}, Vector{Vector{Float64}}, Vector{StepRangeLen{Float64, Base.TwicePrecision{Float64}, Base.TwicePrecision{Float64}}}, Dict{Symbol, Any})",
     "output_type": "error",
     "traceback": [
      "Couldn't process recipe args: (Vector{Vector{Float64}}, Vector{Vector{Float64}}, Vector{StepRangeLen{Float64, Base.TwicePrecision{Float64}, Base.TwicePrecision{Float64}}}, Dict{Symbol, Any})",
      "",
      "Stacktrace:",
      "  [1] error(s::String)",
      "    @ Base .\\error.jl:33",
      "  [2] macro expansion",
      "    @ ~\\.julia\\packages\\RecipesPipeline\\tkFmN\\src\\user_recipe.jl:167 [inlined]",
      "  [3] apply_recipe(::AbstractDict{Symbol, Any}, ::Any, ::Any, ::Any, ::Any)",
      "    @ RecipesPipeline ~\\.julia\\packages\\RecipesBase\\92zOw\\src\\RecipesBase.jl:282",
      "  [4] _process_userrecipes!(plt::Plots.Plot{Plots.PlotlyBackend}, plotattributes::Dict{Symbol, Any}, args::Tuple{Vector{Vector{Float64}}, Vector{Vector{Float64}}, Vector{StepRangeLen{Float64, Base.TwicePrecision{Float64}, Base.TwicePrecision{Float64}}}, Dict{Symbol, Any}})",
      "    @ RecipesPipeline ~\\.julia\\packages\\RecipesPipeline\\tkFmN\\src\\user_recipe.jl:35",
      "  [5] recipe_pipeline!(plt::Plots.Plot{Plots.PlotlyBackend}, plotattributes::Dict{Symbol, Any}, args::Tuple{Vector{Vector{Float64}}, Vector{Vector{Float64}}, Vector{StepRangeLen{Float64, Base.TwicePrecision{Float64}, Base.TwicePrecision{Float64}}}, Dict{Symbol, Any}})",
      "    @ RecipesPipeline ~\\.julia\\packages\\RecipesPipeline\\tkFmN\\src\\RecipesPipeline.jl:69",
      "  [6] _plot!(plt::Plots.Plot{Plots.PlotlyBackend}, plotattributes::Dict{Symbol, Any}, args::Tuple{Vector{Vector{Float64}}, Vector{Vector{Float64}}, Vector{StepRangeLen{Float64, Base.TwicePrecision{Float64}, Base.TwicePrecision{Float64}}}, Dict{Symbol, Any}})",
      "    @ Plots ~\\.julia\\packages\\Plots\\V8QVi\\src\\plot.jl:167",
      "  [7] plot(::Vector{Vector{Float64}}, ::Vararg{Any, N} where N; kw::Base.Iterators.Pairs{Symbol, Bool, Tuple{Symbol, Symbol, Symbol}, NamedTuple{(:legend, :grid, :axis), Tuple{Bool, Bool, Bool}}})",
      "    @ Plots ~\\.julia\\packages\\Plots\\V8QVi\\src\\plot.jl:57",
      "  [8] render_trace(trace::Gen.DynamicDSLTrace{DynamicDSLFunction{Any}})",
      "    @ Main .\\In[27]:23",
      "  [9] top-level scope",
      "    @ In[28]:2",
      " [10] eval",
      "    @ .\\boot.jl:360 [inlined]",
      " [11] include_string(mapexpr::typeof(REPL.softscope), mod::Module, code::String, filename::String)",
      "    @ Base .\\loading.jl:1094"
     ]
    }
   ],
   "source": [
    "trace1 = Gen.simulate(straight_rails, (0.0,100.,));\n",
    "p = render_trace(trace1)\n",
    "#save_image(p, 1)\n",
    "p"
   ]
  },
  {
   "cell_type": "code",
   "execution_count": 20,
   "metadata": {},
   "outputs": [
    {
     "data": {
      "text/plain": [
       "Dict{Symbol, Any} with 1 entry:\n",
       "  :eye => [10, 20, 100]"
      ]
     },
     "execution_count": 20,
     "metadata": {},
     "output_type": "execute_result"
    }
   ],
   "source": [
    "KW(:eye => [10,20,100])"
   ]
  },
  {
   "cell_type": "code",
   "execution_count": 74,
   "metadata": {},
   "outputs": [
    {
     "data": {
      "image/svg+xml": [
       "<?xml version=\"1.0\" encoding=\"utf-8\"?>\n",
       "<svg xmlns=\"http://www.w3.org/2000/svg\" xmlns:xlink=\"http://www.w3.org/1999/xlink\" width=\"600\" height=\"400\" viewBox=\"0 0 2400 1600\">\n",
       "<defs>\n",
       "  <clipPath id=\"clip340\">\n",
       "    <rect x=\"0\" y=\"0\" width=\"2400\" height=\"1600\"/>\n",
       "  </clipPath>\n",
       "</defs>\n",
       "<path clip-path=\"url(#clip340)\" d=\"\n",
       "M0 1600 L2400 1600 L2400 0 L0 0  Z\n",
       "  \" fill=\"#ffffff\" fill-rule=\"evenodd\" fill-opacity=\"1\"/>\n",
       "<defs>\n",
       "  <clipPath id=\"clip341\">\n",
       "    <rect x=\"480\" y=\"0\" width=\"1681\" height=\"1600\"/>\n",
       "  </clipPath>\n",
       "</defs>\n",
       "<defs>\n",
       "  <clipPath id=\"clip342\">\n",
       "    <rect x=\"174\" y=\"47\" width=\"2179\" height=\"1440\"/>\n",
       "  </clipPath>\n",
       "</defs>\n",
       "<path clip-path=\"url(#clip342)\" d=\"\n",
       "M174.862 919.041 L174.862 446.748 L1359.08 47.2441 L2352.76 614.651 L2352.76 1086.94 L1168.54 1486.45 L174.862 919.041  Z\n",
       "  \" fill=\"#ffffff\" fill-rule=\"evenodd\" fill-opacity=\"1\"/>\n",
       "<polyline clip-path=\"url(#clip342)\" style=\"stroke:#009af9; stroke-width:4; stroke-opacity:1; fill:none\" points=\"\n",
       "  236.501,910.426 352.985,965.745 492.916,1013.15 656.64,1052.54 844.745,1083.69 1058.09,1106.33 1297.87,1120.06 1565.66,1124.33 1863.53,1118.46 2194.22,1101.51 \n",
       "  \n",
       "  \"/>\n",
       "<polyline clip-path=\"url(#clip342)\" style=\"stroke:#e26f46; stroke-width:4; stroke-opacity:1; fill:none\" points=\"\n",
       "  333.397,877.738 449.881,933.056 589.813,980.465 753.537,1019.85 941.642,1051 1154.99,1073.64 1394.77,1087.37 1662.56,1091.64 1960.43,1085.77 2291.12,1068.82 \n",
       "  \n",
       "  \"/>\n",
       "</svg>\n"
      ]
     },
     "execution_count": 74,
     "metadata": {},
     "output_type": "execute_result"
    }
   ],
   "source": [
    "trace1 = Gen.simulate(rail_curve, (0.0, 100., 200.,));\n",
    "p = render_trace_curves(trace1);\n",
    "p"
   ]
  },
  {
   "cell_type": "code",
   "execution_count": 86,
   "metadata": {},
   "outputs": [
    {
     "data": {
      "image/svg+xml": [
       "<?xml version=\"1.0\" encoding=\"utf-8\"?>\n",
       "<svg xmlns=\"http://www.w3.org/2000/svg\" xmlns:xlink=\"http://www.w3.org/1999/xlink\" width=\"600\" height=\"400\" viewBox=\"0 0 2400 1600\">\n",
       "<defs>\n",
       "  <clipPath id=\"clip820\">\n",
       "    <rect x=\"0\" y=\"0\" width=\"2400\" height=\"1600\"/>\n",
       "  </clipPath>\n",
       "</defs>\n",
       "<path clip-path=\"url(#clip820)\" d=\"\n",
       "M0 1600 L2400 1600 L2400 0 L0 0  Z\n",
       "  \" fill=\"#ffffff\" fill-rule=\"evenodd\" fill-opacity=\"1\"/>\n",
       "<defs>\n",
       "  <clipPath id=\"clip821\">\n",
       "    <rect x=\"480\" y=\"0\" width=\"1681\" height=\"1600\"/>\n",
       "  </clipPath>\n",
       "</defs>\n",
       "<defs>\n",
       "  <clipPath id=\"clip822\">\n",
       "    <rect x=\"174\" y=\"47\" width=\"2179\" height=\"1440\"/>\n",
       "  </clipPath>\n",
       "</defs>\n",
       "<path clip-path=\"url(#clip822)\" d=\"\n",
       "M174.862 902.476 L174.862 430.184 L1378.26 47.2441 L2352.76 631.216 L2352.76 1103.51 L1149.36 1486.45 L174.862 902.476  Z\n",
       "  \" fill=\"#ffffff\" fill-rule=\"evenodd\" fill-opacity=\"1\"/>\n",
       "<polyline clip-path=\"url(#clip822)\" style=\"stroke:#009af9; stroke-width:4; stroke-opacity:1; fill:none\" points=\"\n",
       "  1351.24,540.074 1424.98,610.325 1478.24,687.094 1510.32,770.604 1520.16,861.193 1506.23,959.342 1466.44,1065.72 1397.86,1181.26 1296.35,1307.28 1155.83,1445.72 \n",
       "  \n",
       "  \"/>\n",
       "<polyline clip-path=\"url(#clip822)\" style=\"stroke:#e26f46; stroke-width:4; stroke-opacity:1; fill:none\" points=\"\n",
       "  1371.78,533.536 1445.53,603.787 1498.79,680.556 1530.87,764.066 1540.7,854.655 1526.78,952.804 1486.99,1059.18 1418.41,1174.72 1316.9,1300.75 1176.38,1439.18 \n",
       "  \n",
       "  \"/>\n",
       "</svg>\n"
      ]
     },
     "execution_count": 86,
     "metadata": {},
     "output_type": "execute_result"
    }
   ],
   "source": [
    "trace = Gen.simulate(combined_model, (10., 100., 150.,));\n",
    "p = render_combined(trace);\n",
    "p"
   ]
  },
  {
   "cell_type": "code",
   "execution_count": 87,
   "metadata": {},
   "outputs": [],
   "source": [
    "# only straight rails\n",
    "#traces = [Gen.simulate(straight_rails, (0., 300.,)) for _=1:50];\n",
    "#for i in 1:50\n",
    "#    p = render_trace(traces[i]);\n",
    "#    save_image(p, i)\n",
    "#    end;\n",
    "\n",
    "\n",
    "traces = [Gen.simulate(combined_model, (10., 200., 250.,)) for _=1:50];\n",
    "for i in 1:50\n",
    "    p = render_combined(traces[i]);\n",
    "    save_image(p, i)\n",
    "end;\n"
   ]
  },
  {
   "cell_type": "code",
   "execution_count": 33,
   "metadata": {},
   "outputs": [
    {
     "name": "stderr",
     "output_type": "stream",
     "text": [
      "┌ Info: Precompiling Images [916415d5-f1e6-5110-898d-aaa5f9f070e0]\n",
      "└ @ Base loading.jl:1317\n"
     ]
    }
   ],
   "source": [
    "using Noise\n",
    "# To DO add gaussian noise to images"
   ]
  },
  {
   "cell_type": "code",
   "execution_count": null,
   "metadata": {},
   "outputs": [],
   "source": []
  }
 ],
 "metadata": {
  "kernelspec": {
   "display_name": "Julia 1.6.0",
   "language": "julia",
   "name": "julia-1.6"
  },
  "language_info": {
   "file_extension": ".jl",
   "mimetype": "application/julia",
   "name": "julia",
   "version": "1.6.0"
  }
 },
 "nbformat": 4,
 "nbformat_minor": 2
}
