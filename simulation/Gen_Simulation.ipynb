{
 "cells": [
  {
   "cell_type": "code",
   "execution_count": null,
   "metadata": {},
   "outputs": [],
   "source": [
    "@gen function generative_model()\n",
    "    anteil_schienen = @trace(normal(0.2,2.0), :anteil)\n",
    "    \n",
    "end;\n",
    "\n",
    "@gen function generative_model()\n",
    "    y1 = @trace((mx + b), :schiene1)  \n",
    "    y2 = @trace((mx + b + 0.5), :schiene2)\n",
    "    # z fix, Schienen sind am Boden\n",
    "    \n",
    "    x_drohne\n",
    "    y_drohne\n",
    "    z_drohne\n",
    "    \n",
    "    x_object\n",
    "    y_object\n",
    "    # z fix, objekte sind am boden\n",
    "    "
   ]
  }
 ],
 "metadata": {
  "kernelspec": {
   "display_name": "Julia 1.6.0",
   "language": "julia",
   "name": "julia-1.6"
  },
  "language_info": {
   "file_extension": ".jl",
   "mimetype": "application/julia",
   "name": "julia",
   "version": "1.6.0"
  }
 },
 "nbformat": 4,
 "nbformat_minor": 4
}
