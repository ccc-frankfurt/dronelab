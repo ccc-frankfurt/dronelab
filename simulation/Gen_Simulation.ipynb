{
 "cells": [
  {
   "cell_type": "code",
   "execution_count": null,
   "metadata": {},
   "outputs": [],
   "source": [
    "@gen function generative_model()\n",
    "    rail_proportion = @trace(normal(0.2,2.0), :rail_proportion)\n",
    "    \n",
    "end;\n",
    "\n",
    "@gen function generative_model()\n",
    "    ###### Rails #####\n",
    "    y1 = @trace((mx + b), :rail1)  \n",
    "    y2 = @trace((mx + b + 0.5), :rail2)\n",
    "    \n",
    "    z1 = 0\n",
    "    z2 = 0\n",
    "    # z fix, Schienen sind am Boden\n",
    "    \n",
    "    \n",
    "    ###### Drone (=camera) Orientation #####\n",
    "    drone_z = @trace(uniform(pi/2 - pi/4, pi/2 + pi/4), :drone_z) # random height of the ground\n",
    "    drone_roll = @trace(uniform(-pi/4, pi/4), :drone_roll)\n",
    "    drone_rot = make_rotation_matrix(camera_z, 0., drone_roll)\n",
    "    \n",
    "    \n",
    "    ###### Position of possibly dangerous objects #####\n",
    "    x_object = @trace(uniform(0,416), :x_object)\n",
    "    y_object = @trace(uniform(0,416), :x_object)\n",
    "    z_object = 0\n",
    "    # z fix, objekte sind am boden\n",
    "end;"
   ]
  },
  {
   "cell_type": "code",
   "execution_count": null,
   "metadata": {},
   "outputs": [],
   "source": []
  }
 ],
 "metadata": {
  "kernelspec": {
   "display_name": "Julia 1.6.0",
   "language": "julia",
   "name": "julia-1.6"
  },
  "language_info": {
   "file_extension": ".jl",
   "mimetype": "application/julia",
   "name": "julia",
   "version": "1.6.0"
  }
 },
 "nbformat": 4,
 "nbformat_minor": 4
}
